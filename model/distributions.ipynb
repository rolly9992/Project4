{
 "cells": [
  {
   "cell_type": "code",
   "execution_count": 1,
   "id": "0ae276c2",
   "metadata": {},
   "outputs": [],
   "source": [
    "import pandas as pd"
   ]
  },
  {
   "cell_type": "code",
   "execution_count": 26,
   "id": "248bec20",
   "metadata": {},
   "outputs": [
    {
     "data": {
      "text/plain": [
       "(2480, 108)"
      ]
     },
     "execution_count": 26,
     "metadata": {},
     "output_type": "execute_result"
    }
   ],
   "source": [
    "df = pd.read_excel('ml_data.xlsx')\n",
    "df.shape"
   ]
  },
  {
   "cell_type": "code",
   "execution_count": 27,
   "id": "20532ae7",
   "metadata": {},
   "outputs": [],
   "source": [
    "def spy_returns_by_quarter():\n",
    "    #TODO refactor location when running from terminal\n",
    "    df = pd.read_excel('../wrangling/Consolidated_TimeSeries_Data.xlsx')\n",
    "    spy = df[df['ticker']=='SPY']\n",
    "    l = []\n",
    "    #skip first and last quarter. \n",
    "    #first set of data used as input data for first model. Last is used to test the preceding quarter \n",
    "    for i in range(0,5):\n",
    "        \n",
    "        temp = pd.DataFrame({'sequence':[i],\n",
    "                            'Spy Return':[spy['return'].iloc[i]]\n",
    "                  }\n",
    "                            )\n",
    "\n",
    "        l.append(temp)\n",
    "    SPY= pd.concat(l)\n",
    "\n",
    "    #print('SPY by quarter:',dfout)\n",
    "    #print('SPY overall return:', value/startingmoney-1 )\n",
    "    return SPY\n",
    "SPY = spy_returns_by_quarter()"
   ]
  },
  {
   "cell_type": "code",
   "execution_count": 28,
   "id": "1da616d6",
   "metadata": {},
   "outputs": [
    {
     "data": {
      "text/html": [
       "<div>\n",
       "<style scoped>\n",
       "    .dataframe tbody tr th:only-of-type {\n",
       "        vertical-align: middle;\n",
       "    }\n",
       "\n",
       "    .dataframe tbody tr th {\n",
       "        vertical-align: top;\n",
       "    }\n",
       "\n",
       "    .dataframe thead th {\n",
       "        text-align: right;\n",
       "    }\n",
       "</style>\n",
       "<table border=\"1\" class=\"dataframe\">\n",
       "  <thead>\n",
       "    <tr style=\"text-align: right;\">\n",
       "      <th></th>\n",
       "      <th>sequence</th>\n",
       "      <th>Spy Return</th>\n",
       "    </tr>\n",
       "  </thead>\n",
       "  <tbody>\n",
       "    <tr>\n",
       "      <th>0</th>\n",
       "      <td>0</td>\n",
       "      <td>-0.025087</td>\n",
       "    </tr>\n",
       "    <tr>\n",
       "      <th>0</th>\n",
       "      <td>1</td>\n",
       "      <td>-0.028612</td>\n",
       "    </tr>\n",
       "    <tr>\n",
       "      <th>0</th>\n",
       "      <td>2</td>\n",
       "      <td>0.042049</td>\n",
       "    </tr>\n",
       "    <tr>\n",
       "      <th>0</th>\n",
       "      <td>3</td>\n",
       "      <td>0.055885</td>\n",
       "    </tr>\n",
       "    <tr>\n",
       "      <th>0</th>\n",
       "      <td>4</td>\n",
       "      <td>0.063772</td>\n",
       "    </tr>\n",
       "  </tbody>\n",
       "</table>\n",
       "</div>"
      ],
      "text/plain": [
       "   sequence  Spy Return\n",
       "0         0   -0.025087\n",
       "0         1   -0.028612\n",
       "0         2    0.042049\n",
       "0         3    0.055885\n",
       "0         4    0.063772"
      ]
     },
     "execution_count": 28,
     "metadata": {},
     "output_type": "execute_result"
    }
   ],
   "source": [
    "SPY"
   ]
  },
  {
   "cell_type": "code",
   "execution_count": 29,
   "id": "4a22ea0d",
   "metadata": {},
   "outputs": [
    {
     "data": {
      "text/plain": [
       "0   -0.082666\n",
       "1   -0.059134\n",
       "2   -0.065027\n",
       "3   -0.086374\n",
       "4    0.026191\n",
       "Name: return, dtype: float64"
      ]
     },
     "execution_count": 29,
     "metadata": {},
     "output_type": "execute_result"
    }
   ],
   "source": [
    "df['return'].head()"
   ]
  },
  {
   "cell_type": "code",
   "execution_count": 30,
   "id": "790fdb80",
   "metadata": {},
   "outputs": [
    {
     "data": {
      "text/plain": [
       "(2480, 110)"
      ]
     },
     "execution_count": 30,
     "metadata": {},
     "output_type": "execute_result"
    }
   ],
   "source": [
    "df = df.merge(SPY,on='sequence',how='left')\n",
    "df['return_diff']= df['return']-df['Spy Return']\n",
    "df.shape"
   ]
  },
  {
   "cell_type": "code",
   "execution_count": 31,
   "id": "461921d9",
   "metadata": {},
   "outputs": [
    {
     "data": {
      "text/plain": [
       "0   -0.057579\n",
       "1   -0.030521\n",
       "2   -0.107077\n",
       "3   -0.142259\n",
       "4   -0.037581\n",
       "Name: return_diff, dtype: float64"
      ]
     },
     "execution_count": 31,
     "metadata": {},
     "output_type": "execute_result"
    }
   ],
   "source": [
    "df['return_diff'].head()"
   ]
  },
  {
   "cell_type": "code",
   "execution_count": 33,
   "id": "c6708352",
   "metadata": {},
   "outputs": [
    {
     "data": {
      "text/plain": [
       "<Axes: >"
      ]
     },
     "execution_count": 33,
     "metadata": {},
     "output_type": "execute_result"
    },
    {
     "data": {
      "image/png": "[encoded data removed]",
      "text/plain": [
       "<Figure size 640x480 with 1 Axes>"
      ]
     },
     "metadata": {},
     "output_type": "display_data"
    }
   ],
   "source": [
    "df['return_diff'].hist(bins=100)"
   ]
  },
  {
   "cell_type": "code",
   "execution_count": 3,
   "id": "ba267ea3",
   "metadata": {},
   "outputs": [
    {
     "data": {
      "text/plain": [
       "['ticker',\n",
       " 'gics_sector',\n",
       " 'totalAssets',\n",
       " 'totalCurrentAssets',\n",
       " 'cashAndCashEquivalentsAtCarryingValue',\n",
       " 'cashAndShortTermInvestments',\n",
       " 'inventory',\n",
       " 'currentNetReceivables',\n",
       " 'totalNonCurrentAssets',\n",
       " 'propertyPlantEquipment',\n",
       " 'accumulatedDepreciationAmortizationPPE',\n",
       " 'intangibleAssets',\n",
       " 'intangibleAssetsExcludingGoodwill',\n",
       " 'goodwill',\n",
       " 'investments',\n",
       " 'longTermInvestments',\n",
       " 'shortTermInvestments',\n",
       " 'otherCurrentAssets',\n",
       " 'otherNonCurrentAssets',\n",
       " 'totalLiabilities',\n",
       " 'totalCurrentLiabilities',\n",
       " 'currentAccountsPayable',\n",
       " 'deferredRevenue',\n",
       " 'currentDebt',\n",
       " 'shortTermDebt',\n",
       " 'totalNonCurrentLiabilities',\n",
       " 'capitalLeaseObligations',\n",
       " 'longTermDebt',\n",
       " 'currentLongTermDebt',\n",
       " 'longTermDebtNoncurrent',\n",
       " 'shortLongTermDebtTotal',\n",
       " 'otherCurrentLiabilities',\n",
       " 'otherNonCurrentLiabilities',\n",
       " 'totalShareholderEquity',\n",
       " 'treasuryStock',\n",
       " 'retainedEarnings',\n",
       " 'commonStock',\n",
       " 'commonStockSharesOutstanding',\n",
       " 'grossProfit',\n",
       " 'totalRevenue',\n",
       " 'costOfRevenue',\n",
       " 'costofGoodsAndServicesSold',\n",
       " 'operatingIncome',\n",
       " 'sellingGeneralAndAdministrative',\n",
       " 'researchAndDevelopment',\n",
       " 'operatingExpenses',\n",
       " 'investmentIncomeNet',\n",
       " 'netInterestIncome',\n",
       " 'interestIncome',\n",
       " 'interestExpense',\n",
       " 'nonInterestIncome',\n",
       " 'otherNonOperatingIncome',\n",
       " 'depreciation',\n",
       " 'depreciationAndAmortization',\n",
       " 'incomeBeforeTax',\n",
       " 'incomeTaxExpense',\n",
       " 'interestAndDebtExpense',\n",
       " 'netIncomeFromContinuingOperations',\n",
       " 'comprehensiveIncomeNetOfTax',\n",
       " 'ebit',\n",
       " 'ebitda',\n",
       " 'netIncome',\n",
       " 'operatingCashflow',\n",
       " 'paymentsForOperatingActivities',\n",
       " 'proceedsFromOperatingActivities',\n",
       " 'changeInOperatingLiabilities',\n",
       " 'changeInOperatingAssets',\n",
       " 'depreciationDepletionAndAmortization',\n",
       " 'capitalExpenditures',\n",
       " 'changeInReceivables',\n",
       " 'changeInInventory',\n",
       " 'profitLoss',\n",
       " 'cashflowFromInvestment',\n",
       " 'cashflowFromFinancing',\n",
       " 'proceedsFromRepaymentsOfShortTermDebt',\n",
       " 'paymentsForRepurchaseOfCommonStock',\n",
       " 'paymentsForRepurchaseOfEquity',\n",
       " 'paymentsForRepurchaseOfPreferredStock',\n",
       " 'dividendPayout',\n",
       " 'dividendPayoutCommonStock',\n",
       " 'dividendPayoutPreferredStock',\n",
       " 'proceedsFromIssuanceOfCommonStock',\n",
       " 'proceedsFromIssuanceOfLongTermDebtAndCapitalSecuritiesNet',\n",
       " 'proceedsFromIssuanceOfPreferredStock',\n",
       " 'proceedsFromRepurchaseOfEquity',\n",
       " 'proceedsFromSaleOfTreasuryStock',\n",
       " 'changeInCashAndCashEquivalents',\n",
       " 'changeInExchangeRate',\n",
       " 'current_ratio',\n",
       " 'acid_test_ratio',\n",
       " 'cash_ratio',\n",
       " 'operating_cash_flow_ratio',\n",
       " 'debt_ratio',\n",
       " 'debt_to_equity_ratio',\n",
       " 'interest_coverage_ratio',\n",
       " 'asset_turnover_ratio',\n",
       " 'averageInventory',\n",
       " 'inventory_turnover_ratio',\n",
       " 'days_in_inventory_ratio',\n",
       " 'gross_margin_ratio',\n",
       " 'operating_margin_ratio',\n",
       " 'roa_ratio',\n",
       " 'roe_ratio',\n",
       " 'sequence',\n",
       " 'rolling62_adjustedclose',\n",
       " 'next_rolling62_adjustedclose',\n",
       " 'return',\n",
       " 'better_than_spy']"
      ]
     },
     "execution_count": 3,
     "metadata": {},
     "output_type": "execute_result"
    }
   ],
   "source": [
    "df.columns.tolist()"
   ]
  },
  {
   "cell_type": "code",
   "execution_count": 10,
   "id": "ac9bb650",
   "metadata": {},
   "outputs": [
    {
     "data": {
      "text/html": [
       "<div>\n",
       "<style scoped>\n",
       "    .dataframe tbody tr th:only-of-type {\n",
       "        vertical-align: middle;\n",
       "    }\n",
       "\n",
       "    .dataframe tbody tr th {\n",
       "        vertical-align: top;\n",
       "    }\n",
       "\n",
       "    .dataframe thead th {\n",
       "        text-align: right;\n",
       "    }\n",
       "</style>\n",
       "<table border=\"1\" class=\"dataframe\">\n",
       "  <thead>\n",
       "    <tr style=\"text-align: right;\">\n",
       "      <th></th>\n",
       "      <th></th>\n",
       "      <th>return</th>\n",
       "    </tr>\n",
       "    <tr>\n",
       "      <th>sequence</th>\n",
       "      <th>better_than_spy</th>\n",
       "      <th></th>\n",
       "    </tr>\n",
       "  </thead>\n",
       "  <tbody>\n",
       "    <tr>\n",
       "      <th rowspan=\"2\" valign=\"top\">0</th>\n",
       "      <th>0</th>\n",
       "      <td>242</td>\n",
       "    </tr>\n",
       "    <tr>\n",
       "      <th>1</th>\n",
       "      <td>254</td>\n",
       "    </tr>\n",
       "    <tr>\n",
       "      <th rowspan=\"2\" valign=\"top\">1</th>\n",
       "      <th>0</th>\n",
       "      <td>192</td>\n",
       "    </tr>\n",
       "    <tr>\n",
       "      <th>1</th>\n",
       "      <td>304</td>\n",
       "    </tr>\n",
       "    <tr>\n",
       "      <th rowspan=\"2\" valign=\"top\">2</th>\n",
       "      <th>0</th>\n",
       "      <td>247</td>\n",
       "    </tr>\n",
       "    <tr>\n",
       "      <th>1</th>\n",
       "      <td>249</td>\n",
       "    </tr>\n",
       "    <tr>\n",
       "      <th rowspan=\"2\" valign=\"top\">3</th>\n",
       "      <th>0</th>\n",
       "      <td>356</td>\n",
       "    </tr>\n",
       "    <tr>\n",
       "      <th>1</th>\n",
       "      <td>140</td>\n",
       "    </tr>\n",
       "    <tr>\n",
       "      <th rowspan=\"2\" valign=\"top\">4</th>\n",
       "      <th>0</th>\n",
       "      <td>281</td>\n",
       "    </tr>\n",
       "    <tr>\n",
       "      <th>1</th>\n",
       "      <td>215</td>\n",
       "    </tr>\n",
       "  </tbody>\n",
       "</table>\n",
       "</div>"
      ],
      "text/plain": [
       "                          return\n",
       "sequence better_than_spy        \n",
       "0        0                   242\n",
       "         1                   254\n",
       "1        0                   192\n",
       "         1                   304\n",
       "2        0                   247\n",
       "         1                   249\n",
       "3        0                   356\n",
       "         1                   140\n",
       "4        0                   281\n",
       "         1                   215"
      ]
     },
     "execution_count": 10,
     "metadata": {},
     "output_type": "execute_result"
    }
   ],
   "source": [
    "dfsubset = df[['sequence','better_than_spy','return']]\n",
    "class_by_sequence = dfsubset.groupby(['sequence','better_than_spy']).count()\n",
    "class_by_sequence"
   ]
  },
  {
   "cell_type": "code",
   "execution_count": 12,
   "id": "fe14a999",
   "metadata": {},
   "outputs": [
    {
     "data": {
      "text/plain": [
       "<Axes: >"
      ]
     },
     "execution_count": 12,
     "metadata": {},
     "output_type": "execute_result"
    },
    {
     "data": {
      "image/png": "[encoded data removed]",
      "text/plain": [
       "<Figure size 640x480 with 1 Axes>"
      ]
     },
     "metadata": {},
     "output_type": "display_data"
    }
   ],
   "source": [
    "df['return'].hist(bins=100)"
   ]
  },
  {
   "cell_type": "code",
   "execution_count": null,
   "id": "961cc924",
   "metadata": {},
   "outputs": [],
   "source": []
  }
 ],
 "metadata": {
  "kernelspec": {
   "display_name": "Python 3 (ipykernel)",
   "language": "python",
   "name": "python3"
  },
  "language_info": {
   "codemirror_mode": {
    "name": "ipython",
    "version": 3
   },
   "file_extension": ".py",
   "mimetype": "text/x-python",
   "name": "python",
   "nbconvert_exporter": "python",
   "pygments_lexer": "ipython3",
   "version": "3.11.11"
  }
 },
 "nbformat": 4,
 "nbformat_minor": 5
}
